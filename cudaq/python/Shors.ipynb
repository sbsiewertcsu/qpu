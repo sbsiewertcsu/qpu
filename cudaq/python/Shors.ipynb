{
 "cells": [
  {
   "cell_type": "markdown",
   "id": "628c747b-084c-4fb6-843e-7c7f4cbf07a1",
   "metadata": {},
   "source": [
    "# Factoring Integers With Shor's Algorithm\n",
    "\n",
    "This file is sourced from [NVIDIA Cuda-Q Docs](https://nvidia.github.io/cuda-quantum/latest/_sources/examples/python/tutorials/Shors.ipynb.txt)"
   ]
  },
  {
   "cell_type": "markdown",
   "id": "c842f49e",
   "metadata": {},
   "source": [
    "<table align=\"left\">\n",
    "  <td>\n",
    "    <a href=\"https://colab.research.google.com/github/collinsjacob127/cudaq/blob/main/Shors.ipynb\" target=\"_parent\"><img src=\"https://colab.research.google.com/assets/colab-badge.svg\" alt=\"Open In Colab\"/></a>\n",
    "  </td>\n",
    "</table>"
   ]
  },
  {
   "cell_type": "markdown",
   "id": "6d0627c4-95bd-47b9-9ab5-e8374d25508e",
   "metadata": {},
   "source": [
    "The most famous application of quantum computers is factoring integers using Shor's algorithm. This algorithm is particularly significant because an efficient factorization algorithm could potentially break modern asymmetric encryption schemes, such as RSA.\n",
    "\n",
    "For small integers, this quantum algorithm can be simulated on classical computers. The main challenge in classical implementation lies in the order-finding algorithm. We will first introduce the classical implementation of this algorithm as a preliminary step, and then proceed to explain the quantum order-finding algorithm.\n",
    "\n"
   ]
  },
  {
   "cell_type": "markdown",
   "id": "148568d8",
   "metadata": {},
   "source": [
    "First let's install some libraries."
   ]
  },
  {
   "cell_type": "code",
   "execution_count": 11,
   "id": "486fb3d4",
   "metadata": {},
   "outputs": [],
   "source": [
    "# Already installed in our environment.yml\n",
    "!pip install -q contfrac\n",
    "!pip install -q cuda-quantum"
   ]
  },
  {
   "cell_type": "code",
   "execution_count": 18,
   "id": "88619b35-624e-4853-8d2e-6d9952390e5e",
   "metadata": {
    "tags": []
   },
   "outputs": [],
   "source": [
    "from math import gcd, log2, ceil\n",
    "import numpy as np\n",
    "import random\n",
    "import cudaq\n",
    "from cudaq import *\n",
    "import fractions\n",
    "import matplotlib.pyplot as plt\n",
    "import contfrac\n",
    "\n",
    "from helpers import compareLines, end_timer, start_timer"
   ]
  },
  {
   "cell_type": "markdown",
   "id": "c8523c6f-d729-4d5e-8df9-1780c343a58e",
   "metadata": {},
   "source": [
    "## Shor's algorithm\n",
    "The factoring problem for an integer $N$ aims to find integers $a_1$, $a_2$ which are factors of $N$.  This problem is interesting when $N$ is not prime and the solutions $a_1$ and $a_2$ are non-trivial.  In other words, we will attempt to find integers $a_1$ and $a_2$ satisfying $N=a_1\\cdot a_2$ with $a_1\\neq 1$ and $a_2\\neq 1$.\n",
    "\n",
    "The algorithm consists of two ideas:\n",
    "\n",
    "* Reduce the problem of factoring the integer $N$ to the order-finding problem.\n",
    "* Solve the order-finding problem: \n",
    "Given integers $a$ and $N$ so that $a$ and $N$ share no common factors (i.e., the greatest common divisor of $a$ and $N$ is 1), find the smallest positive integer which satisfies $a^r \\equiv 1 \\mod N$.  This value $r$ is refered to as the *order of* $a \\mod N$.\n",
    "\n",
    "These two ideas are combined in the following steps in Shor's algorithm:\n",
    "\n",
    "0. Rule out the easy case that $N$ is even\n",
    "1. Select a random integer $a$ between $2$ and $N-1$\n",
    "2. Check to see if $a$ is a factor of $N$ (if so we're done!)\n",
    "3. Find the order of $a \\mod N$, (i.e., find $r$ so that $a^r\\equiv 1 \\mod N$)\n",
    "4. Check to see if $a^{\\frac{r}{2}}-1$ or $a^{\\frac{r}{2}}+1$ are integers and share common, non-trivial, divisors with $N$ (if so we're done!)\n",
    "5. If no factor is found, repeat steps 1 through 4 above.\n",
    "\n",
    "The function `shors_algorithm` below outlines these steps for both the classical and the quantum implementation of Shor's algorithm. For the purposes of demonstration, we will also control the initial random integer selected in step 1 so that we can investigate cases in which the selected integer produces common divisors of $N$ in step 4 and others in which step 4 produces no common factors.\n",
    "\n",
    "\n",
    "**Note about terminology:** Some literature refers to the \"period-finding problem\" in Shor's algorithm.  The order-finding problem, as we have described above, can be recast as finding the period of the function $f(x) = a^x\\mod N$, by noticing that the period of $f(x)$ is one more than the order of $a\\mod N$. The period finding problem is more general than the order-finding problem since it aims to find the period of any periodic function, not just modular exponentiation.\n"
   ]
  },
  {
   "cell_type": "code",
   "execution_count": 13,
   "id": "7dd05729",
   "metadata": {},
   "outputs": [],
   "source": [
    "def shors_algorithm(N, initial, quantum):\n",
    "    \"\"\" Factor N using Shor's algorithm with initial starting value and choice of \n",
    "    using either classical or quantum approach for the period finding step\n",
    "    Parameters\n",
    "    ----------\n",
    "    N: int \n",
    "        Integer to be factored (assumed to be non-prime and >1)\n",
    "    initial: int \n",
    "        Initial choice of the random integer between 2 and N-1\n",
    "    quantum: boolean\n",
    "        True if we will call the quantum order-finding algorithm, and false if we call the classical one for step 3.   \n",
    "        \n",
    "    Returns\n",
    "    -------\n",
    "    a1, a2: int\n",
    "        Non-trivial factors of N\n",
    "    \"\"\"\n",
    "\n",
    "    # 0. Check to see if N is even.\n",
    "    if N % 2 == 0:\n",
    "        divisor1 = 2\n",
    "        divisor2 = N // 2\n",
    "        print(\"Found factors:\", divisor1, divisor2)\n",
    "        return (divisor1, divisor2)\n",
    "\n",
    "    attempts = [initial]\n",
    "    while (True):\n",
    "        # 1. Select a random integer between 2 and N-1\n",
    "        if len(attempts) == 1:\n",
    "            a = initial\n",
    "        else:\n",
    "            a = random.choice(\n",
    "                [n for n in range(N - 1) if n not in attempts and n != 1])\n",
    "\n",
    "        # 2. See if the integer selected in step 1 happens to factor N\n",
    "        print(\"Trying a =\", a)\n",
    "        divisor1 = gcd(a, N)\n",
    "        if divisor1 != 1:\n",
    "            divisor2 = N // divisor1\n",
    "            print(\"Found factors of N={} by chance: {} and {}\".format(N, divisor1, divisor2))\n",
    "            return (divisor1, divisor2)\n",
    "\n",
    "        # 3. Find the order of a mod N (i.e., r, where a^r = 1 (mod N))\n",
    "        if quantum == True:\n",
    "            r = find_order_quantum(a, N)\n",
    "        else:\n",
    "            r = find_order_classical(a, N)\n",
    "        print(\"The order of a = {} is {}\".format(a,r))\n",
    "\n",
    "        # 4. If the order of a is found and it is\n",
    "        # * even and\n",
    "        # * not a^(r/2) = -1 (mod N),\n",
    "        # then test a^(r/2)-1 and a^(r/2)+1 to see if they share factors with N.\n",
    "        # We also want to rule out the case of finding the trivial factors: 1 and N.\n",
    "        divisor1, divisor2 = test_order(a, r, N)\n",
    "        if (divisor1 != 0):  # test_order will return a 0 if no factor is found\n",
    "            print(\"Found factors of N = {}: {} and {}\".format(N,divisor1, divisor2))\n",
    "            return divisor1, divisor2\n",
    "\n",
    "        # 5. Repeat\n",
    "        print(\"retrying...\")\n",
    "        attempts.append(a)"
   ]
  },
  {
   "cell_type": "markdown",
   "id": "ed682e81",
   "metadata": {},
   "source": [
    "Let's first explore the idea of reducing the factoring problem into the order-finding problem. This gets captured in step 4 described above.  In this step, we have already established that $a$ and $N$ share no factors other than $1$ (i.e., $\\gcd(a,N)=1$) and we have found $r$, the order of $a\\mod N.$  With this information we know that $a^r \\equiv 1 \\mod N.$  Rewritten in another way:\n",
    "$$\n",
    "a^r -1 \\equiv 0\\mod N\n",
    "\\tag{1}.\n",
    "$$ \n",
    " \n",
    " If $r$ is even, we can rewrite $a^r$ as $x^2$ where $x=a^\\frac{r}{2}$. Next, we can factor equation $(1)$ using the identity $x^2-1 = (x-1)(x+1)$:\n",
    " $$ \n",
    " (a^{\\frac{r}{2}} - 1)(a^{\\frac{r}{2}} + 1) \\equiv 0\\mod N\n",
    "\\tag{2}.\n",
    "$$  \n",
    "\n",
    "If, in addition, the equation\n",
    "$$\n",
    "a^{\\frac{r}{2}}  \\not\\equiv -1\\mod N\n",
    "\\tag{3}\n",
    "$$\n",
    "is satisfied, then  at least one of the terms $a^{\\frac{r}{2}} - 1$ or $a^{\\frac{r}{2}} + 1$ must share a common factor with $N$. [Peter Shor](https://arxiv.org/abs/quant-ph/9508027) demonstrated that there is greater than a $50\\%$ chance of randomly selecting a value for $a$ satisfying these properties.\n",
    "\n",
    "The code block below defines a function that tests whether $r$ is even and whether equation $(3)$ is satisfied and searches for a non-trivial factor of $N$."
   ]
  },
  {
   "cell_type": "code",
   "execution_count": 14,
   "id": "6c8eed12",
   "metadata": {},
   "outputs": [],
   "source": [
    "def test_order(a, r, N):\n",
    "    \"\"\"Checks whether or not a^(r/2)+1 or a^(r/2)-1 share a non-trivial common factor with N\n",
    "    Parameters\n",
    "    ----------\n",
    "    a: int\n",
    "    r: int\n",
    "    N: int\n",
    "    \n",
    "    Returns\n",
    "    -------\n",
    "    int, int factors of N, if found; 0,0 otherwise  \n",
    "    \"\"\"\n",
    "\n",
    "    if r != None and (r % 2 == 0) and a**r % N == 1:\n",
    "        if (a**(int(r / 2))) % N != -1:\n",
    "            possible_factors = [gcd(r - 1, N), gcd(r + 1, N)]\n",
    "            for test_factor in possible_factors:\n",
    "                if test_factor != 1 and test_factor != N:\n",
    "                    return test_factor, N // test_factor\n",
    "    # period did not produce a factor\n",
    "    else:\n",
    "        print('No non-trivial factor found')\n",
    "        return 0, 0\n"
   ]
  },
  {
   "cell_type": "markdown",
   "id": "a43af433-905c-4070-94b3-0f6be6f67f6b",
   "metadata": {},
   "source": [
    "### Solving the order-finding problem classically\n",
    "\n",
    "The key component of Shor's algorithm is an efficient quantum algorithm to find the order $r$ of $a \\mod N$. While a straightforward classical algorithm can solve this problem, it is notably inefficient:"
   ]
  },
  {
   "cell_type": "code",
   "execution_count": 15,
   "id": "14f4b0d8",
   "metadata": {},
   "outputs": [],
   "source": [
    "def find_order_classical(a, N):\n",
    "    \"\"\"A naive classical method to find the order r of a (mod N).\n",
    "    Parameters\n",
    "    ----------\n",
    "    a: int\n",
    "        an integer in the interval [2,N-1]\n",
    "    N: int\n",
    "    \n",
    "    Returns\n",
    "    -------\n",
    "    r: int \n",
    "        Period of a^x (mod N)\n",
    "    \"\"\"\n",
    "    assert 1 < a and a < N\n",
    "    r = 1\n",
    "    y = a\n",
    "    while y != 1:\n",
    "        y = y * a % N\n",
    "        r += 1\n",
    "    return r"
   ]
  },
  {
   "cell_type": "markdown",
   "id": "aae6b36d",
   "metadata": {},
   "source": [
    "Let's see how Shor's algorithm works on a few examples using the classical order-finding problem.  Notice how often our choice of value for the initial guess for $a$ produces factors of $N$."
   ]
  },
  {
   "cell_type": "code",
   "execution_count": 22,
   "id": "7788cab0",
   "metadata": {},
   "outputs": [
    {
     "name": "stdout",
     "output_type": "stream",
     "text": [
      "Starting classical Shors\n",
      "  Semiprime: 143\n",
      "  Factors: [13 11]\n",
      " starting\n",
      "Trying a = 4\n",
      "The order of a = 4 is 30\n"
     ]
    },
    {
     "ename": "TypeError",
     "evalue": "cannot unpack non-iterable NoneType object",
     "output_type": "error",
     "traceback": [
      "\u001b[0;31m---------------------------------------------------------------------------\u001b[0m",
      "\u001b[0;31mTypeError\u001b[0m                                 Traceback (most recent call last)",
      "Cell \u001b[0;32mIn[22], line 37\u001b[0m\n\u001b[1;32m     35\u001b[0m     t_start \u001b[38;5;241m=\u001b[39m start_timer(title)\n\u001b[1;32m     36\u001b[0m     \u001b[38;5;66;03m# run classical\u001b[39;00m\n\u001b[0;32m---> 37\u001b[0m     \u001b[43mshors_algorithm\u001b[49m\u001b[43m(\u001b[49m\u001b[43msemiprime\u001b[49m\u001b[43m,\u001b[49m\u001b[43m \u001b[49m\u001b[43minitial_value_to_start\u001b[49m\u001b[43m,\u001b[49m\u001b[43m \u001b[49m\u001b[38;5;28;43;01mFalse\u001b[39;49;00m\u001b[43m)\u001b[49m\n\u001b[1;32m     38\u001b[0m     t_total \u001b[38;5;241m=\u001b[39m end_timer(t_start, title)\n\u001b[1;32m     39\u001b[0m     \u001b[38;5;66;03m# timer end\u001b[39;00m\n\u001b[1;32m     40\u001b[0m     \u001b[38;5;66;03m# times_sample.push(time_taken)\u001b[39;00m\n\u001b[1;32m     41\u001b[0m \u001b[38;5;66;03m# times.push(np.mean(times_sample)) \u001b[39;00m\n",
      "Cell \u001b[0;32mIn[13], line 55\u001b[0m, in \u001b[0;36mshors_algorithm\u001b[0;34m(N, initial, quantum)\u001b[0m\n\u001b[1;32m     48\u001b[0m \u001b[38;5;28mprint\u001b[39m(\u001b[38;5;124m\"\u001b[39m\u001b[38;5;124mThe order of a = \u001b[39m\u001b[38;5;132;01m{}\u001b[39;00m\u001b[38;5;124m is \u001b[39m\u001b[38;5;132;01m{}\u001b[39;00m\u001b[38;5;124m\"\u001b[39m\u001b[38;5;241m.\u001b[39mformat(a,r))\n\u001b[1;32m     50\u001b[0m \u001b[38;5;66;03m# 4. If the order of a is found and it is\u001b[39;00m\n\u001b[1;32m     51\u001b[0m \u001b[38;5;66;03m# * even and\u001b[39;00m\n\u001b[1;32m     52\u001b[0m \u001b[38;5;66;03m# * not a^(r/2) = -1 (mod N),\u001b[39;00m\n\u001b[1;32m     53\u001b[0m \u001b[38;5;66;03m# then test a^(r/2)-1 and a^(r/2)+1 to see if they share factors with N.\u001b[39;00m\n\u001b[1;32m     54\u001b[0m \u001b[38;5;66;03m# We also want to rule out the case of finding the trivial factors: 1 and N.\u001b[39;00m\n\u001b[0;32m---> 55\u001b[0m divisor1, divisor2 \u001b[38;5;241m=\u001b[39m test_order(a, r, N)\n\u001b[1;32m     56\u001b[0m \u001b[38;5;28;01mif\u001b[39;00m (divisor1 \u001b[38;5;241m!=\u001b[39m \u001b[38;5;241m0\u001b[39m):  \u001b[38;5;66;03m# test_order will return a 0 if no factor is found\u001b[39;00m\n\u001b[1;32m     57\u001b[0m     \u001b[38;5;28mprint\u001b[39m(\u001b[38;5;124m\"\u001b[39m\u001b[38;5;124mFound factors of N = \u001b[39m\u001b[38;5;132;01m{}\u001b[39;00m\u001b[38;5;124m: \u001b[39m\u001b[38;5;132;01m{}\u001b[39;00m\u001b[38;5;124m and \u001b[39m\u001b[38;5;132;01m{}\u001b[39;00m\u001b[38;5;124m\"\u001b[39m\u001b[38;5;241m.\u001b[39mformat(N,divisor1, divisor2))\n",
      "\u001b[0;31mTypeError\u001b[0m: cannot unpack non-iterable NoneType object"
     ]
    }
   ],
   "source": [
    "import numpy as np\n",
    "### Get Actual Runtime of Classical Implementation ###\n",
    "# Opens a csv of prime numbers and returns a list of n-bit prime numbers.\n",
    "def read_nbit_primes(nbits, filepath, include_lower=False):\n",
    "    f = open(filepath, mode=\"r\")\n",
    "    # Read primes from the file\n",
    "    primes = np.array(f.readlines()).astype(int)\n",
    "    # Filter primes to within the boundaries of our bitspace\n",
    "    if not include_lower:\n",
    "        # Smallest n-bit number that cannot be represented\n",
    "        # with less than n bits\n",
    "        low_bound = np.pow(2, nbits-1) \n",
    "        primes = np.extract(primes >= low_bound, primes)\n",
    "    # Largest n-bit number\n",
    "    upper_bound = np.pow(2, nbits)-1 \n",
    "    # Extract \n",
    "    return np.extract(primes <= upper_bound, primes)\n",
    "\n",
    "# Path to file of 16 bit primes\n",
    "fp = 'prime_generator/primes/16bit_primes_2_65535.txt'\n",
    "\n",
    "bit_list = range(4,17) # 8-16\n",
    "sample_size = 1 \n",
    "times = []\n",
    "for n in bit_list:\n",
    "    primes = read_nbit_primes(n, fp)\n",
    "    times_sample = []\n",
    "    for _ in range(sample_size):\n",
    "        two_primes = np.random.choice(primes, 2)\n",
    "        semiprime = np.uint64(two_primes[0]*two_primes[1]) # Input to factor\n",
    "        initial_value_to_start = 4 # Can try messing around with this\n",
    "        title = f'Starting classical Shors\\n' + \\\n",
    "                f'  Semiprime: {semiprime}\\n' + \\\n",
    "                f'  Factors: {two_primes}\\n'\n",
    "        t_start = start_timer(title)\n",
    "        # run classical\n",
    "        shors_algorithm(semiprime, initial_value_to_start, False)\n",
    "        t_total = end_timer(t_start, title)\n",
    "        # timer end\n",
    "        # times_sample.push(time_taken)\n",
    "    # times.push(np.mean(times_sample)) \n"
   ]
  },
  {
   "cell_type": "code",
   "execution_count": null,
   "id": "3f75b314-9f0c-40c5-a7bc-58ae235fc183",
   "metadata": {},
   "outputs": [],
   "source": [
    "my_integer = 123  #edit this value to try out a few examples\n",
    "# Edit the value in the line below to try out different initial guesses for a.\n",
    "# What happens when you choose a = 42 for the integer 123?\n",
    "# What happens when you choose a = 100 for the integer 123?\n",
    "initial_value_to_start = 42  # edit this value; it should be less than my_integer\n",
    "\n",
    "title = \"Shor's Classical\"\n",
    "start_time = start_timer(title)\n",
    "shors_algorithm(my_integer, initial_value_to_start, False)\n",
    "end_timer(start_time, title)"
   ]
  },
  {
   "cell_type": "markdown",
   "id": "275efced-b10e-4438-9b5e-f3534079304b",
   "metadata": {},
   "source": [
    "### Solving the order-finding problem with a quantum algorithm\n",
    "\n",
    "\n",
    "The Fourier transform is a classical computation that provides a more efficient algorithm than the one encoded in `find_order_classical` for identifying the period of $f(x) = a^x\\mod N$. The quantum version of the Fourier transform is the central idea of Shor's Algorithm. This efficient quantum solution derives the period from a measurement of $n = \\lceil log2(N) \\rceil$ qubits. \n",
    "\n",
    "The image below outlines the quantum kernel used to find the order of $a$. Notice the last step involves applying the Inverse Quantum Fourier Transform."
   ]
  },
  {
   "cell_type": "markdown",
   "id": "aba9fbd7",
   "metadata": {},
   "source": [
    "![](images/shor_circuit.png)\n",
    "\n",
    "Figure. Circuit diagram for finding the phase of the modular multiplication gate $U|x\\rangle = |a^x\\mod N\\rangle $, which will be used to compute the order of $a$ modulo $N$.  The number of qubits in the control register determines the accuracy of estimating the phase of $U$. The size of the work register depends on $N$. The goal of this section is to code the  diagram as a kernel named `phase_kernel`. "
   ]
  },
  {
   "cell_type": "markdown",
   "id": "d7eff3b6",
   "metadata": {},
   "source": [
    "We will need to create a quantum kernel for the Inverse Quantum Fourier Transform.  Additionally we'll need to create a kernel for modular multiplication: $g(y) = ay \\mod N$, which can be repeatedly applied $x$-times to $y=1$ to carry our modular exponentation $f(x)=a^x\\mod N$."
   ]
  },
  {
   "cell_type": "markdown",
   "id": "567e104e",
   "metadata": {},
   "source": [
    "#### Inverse quantum Fourier transform\n",
    "In the code block below we define a kernel for the quantum Fourier transform and then use `cudaq.adjoint` to create a kernel for the inverse quantum Fourier transform used in the quantum order-finding algorithm."
   ]
  },
  {
   "cell_type": "code",
   "execution_count": 8,
   "id": "0e04a0a4",
   "metadata": {},
   "outputs": [],
   "source": [
    "# Define kernels for the quantum Fourier transform and the inverse quantum Fourier transform\n",
    "@cudaq.kernel\n",
    "def quantum_fourier_transform(qubits: cudaq.qview):\n",
    "    qubit_count = len(qubits)\n",
    "    # Apply Hadamard gates and controlled rotation gates.\n",
    "    for i in range(qubit_count):\n",
    "        h(qubits[i])\n",
    "        for j in range(i + 1, qubit_count):\n",
    "            angle = (2 * np.pi) / (2**(j - i + 1))\n",
    "            cr1(angle, [qubits[j]], qubits[i])\n",
    "\n",
    "\n",
    "@cudaq.kernel\n",
    "def inverse_qft(qubits: cudaq.qview):\n",
    "    cudaq.adjoint(quantum_fourier_transform, qubits)"
   ]
  },
  {
   "cell_type": "markdown",
   "id": "39db9e6a",
   "metadata": {},
   "source": [
    "#### Quantum kernels for modular exponentiation"
   ]
  },
  {
   "cell_type": "markdown",
   "id": "1b8b8884",
   "metadata": {},
   "source": [
    "\n",
    "While Shor's algorithm provably can factor numbers faster than known classical techniques, the resources required for implementing Shor's algorithm are hefty. A full-scale implementation to factor an $L$-bit number could require a quantum kernel with $5L+1$ qubits to achieve accuracy for the continued fractions part of the algoirthm and as many as $72L^3$ quantum gates for the modular exponentiaion [(Beckman, Chari, Devabhaktuni, & Preskill, 1996)](https://arxiv.org/pdf/quant-ph/9602016).  Both of these are well beyond the capabilities of modern quantum hardware for numbers of interest. Advancements to reduce the number of gates and qubits required focus on optimizing the kernel for $f(x) = a\\cdot x \\mod N$ for properties of the number to be factored. The difficulty is to create efficient quantum kernels (in terms of qubit and gate count) that compute $a\\cdot x \\mod{N}$.  \n",
    "\n",
    "For the purposes of this demonstration, we will consider only the order-finding problem for the values of $a$ to be either $4$ or $5$ with $N=21$. We'll be using the quantum circuits depicted in [this paper](https://arxiv.org/abs/2103.13855) and [this report](https://physlab.org/wp-content/uploads/2023/05/Shor_s_Algorithm_23100113_Fin.pdf), respectively. \n"
   ]
  },
  {
   "cell_type": "markdown",
   "id": "a48d6fa1",
   "metadata": {},
   "source": [
    "##### The case N = 21 and a = 5:"
   ]
  },
  {
   "cell_type": "code",
   "execution_count": 9,
   "id": "c4b8e2e4",
   "metadata": {},
   "outputs": [],
   "source": [
    "@cudaq.kernel\n",
    "def modular_mult_5_21(work: cudaq.qview):\n",
    "    \"\"\"\"Kernel for multiplying by 5 mod 21\n",
    "    based off of the circuit diagram in \n",
    "    https://physlab.org/wp-content/uploads/2023/05/Shor_s_Algorithm_23100113_Fin.pdf\n",
    "    Modifications were made to change the ordering of the qubits\"\"\"\n",
    "    x(work[0])\n",
    "    x(work[2])\n",
    "    x(work[4])\n",
    "    \n",
    "    swap(work[0], work[4])\n",
    "    swap(work[0], work[2])\n",
    "\n",
    "@cudaq.kernel\n",
    "def modular_exp_5_21(exponent: cudaq.qview, work: cudaq.qview,\n",
    "                     control_size: int):\n",
    "    \"\"\" Controlled modular exponentiation kernel used in Shor's algorithm\n",
    "    |x> U^x |y> = |x> |(5^x)y mod 21>\n",
    "    \"\"\"\n",
    "    x(work[0])\n",
    "    for exp in range(control_size):\n",
    "        ctrl_qubit = exponent[exp]\n",
    "        for _ in range(2**(exp)):\n",
    "            cudaq.control(modular_mult_5_21, ctrl_qubit, work)\n",
    "\n"
   ]
  },
  {
   "cell_type": "markdown",
   "id": "0c644786",
   "metadata": {},
   "source": [
    "Verify in the code block below that the kernels defined above do in fact carry out multiplication and exponentiation with $a=5$ and $N=21$ by changing the `iterations` variable below. "
   ]
  },
  {
   "cell_type": "code",
   "execution_count": null,
   "id": "e93fcf39",
   "metadata": {},
   "outputs": [],
   "source": [
    "# Demonstrate iterated application of 5y mod 21 where y = 1\n",
    "@cudaq.kernel\n",
    "def demonstrate_mod_exponentiation(iterations: int):\n",
    "    qubits = cudaq.qvector(5)\n",
    "    x(qubits[0]) # initalizes the qubits in the state for y = 1 which is |10000>\n",
    "    for _ in range(iterations):\n",
    "        modular_mult_5_21(qubits)\n",
    "\n",
    "\n",
    "shots = 200\n",
    "\n",
    "# The iterations variable determines the exponent in 5^x mod 21. \n",
    "# Change this value to verify that the demonstrate_mod_exponentiation\n",
    "# kernel carries out the desired calculation.\n",
    "iterations = 1  \n",
    "\n",
    "print(cudaq.draw(demonstrate_mod_exponentiation, iterations))\n",
    "\n",
    "results = cudaq.sample(demonstrate_mod_exponentiation,\n",
    "                       iterations,\n",
    "                       shots_count=shots)\n",
    "\n",
    "print(\"Measurement results from sampling:\", results)\n",
    "\n",
    "# Reverse the order of the most probable measured bit string\n",
    "# and convert the binary string to an integer\n",
    "integer_result = int(results.most_probable()[::-1],2)\n",
    "\n",
    "print(\"For x = {}, 5^x mod 21 = {}\".format(iterations, (5**iterations) % 21))\n",
    "print(\"For x = {}, the computed result of the circuit is {}\".format(\n",
    "    iterations, integer_result))\n"
   ]
  },
  {
   "cell_type": "markdown",
   "id": "ff07579c",
   "metadata": {},
   "source": [
    "##### The case N = 21 and a = 4:\n",
    "\n",
    "The example below is one where the work register has been optimized to use fewer gates and qubits than would have been necessary through a straightforward implementation of modular multiplication as seen in the previous case."
   ]
  },
  {
   "cell_type": "code",
   "execution_count": 11,
   "id": "69963075",
   "metadata": {},
   "outputs": [],
   "source": [
    "@cudaq.kernel\n",
    "def modular_exp_4_21(exponent: cudaq.qview, work: cudaq.qview):\n",
    "    \"\"\" Controlled modular exponentiation kernel used in Shor's algorithm\n",
    "     |x> U^x |y> = |x> |(4^x)y mod 21>\n",
    "     based off of the circuit diagram in https://arxiv.org/abs/2103.13855\n",
    "     Modifications were made to account for qubit ordering differences\"\"\"\n",
    "    swap(exponent[0], exponent[2])\n",
    "    # x = 1\n",
    "    x.ctrl(exponent[2], work[1])\n",
    "\n",
    "    # x = 2\n",
    "    x.ctrl(exponent[1], work[1])\n",
    "    x.ctrl(work[1], work[0])\n",
    "    x.ctrl([exponent[1], work[0]], work[1])\n",
    "    x.ctrl(work[1], work[0])\n",
    "\n",
    "    # x = 4\n",
    "    x(work[1])\n",
    "    x.ctrl([exponent[0], work[1]], work[0])\n",
    "    x(work[1])\n",
    "    x.ctrl(work[1], work[0])\n",
    "    x.ctrl([exponent[0], work[0]], work[1])\n",
    "    x.ctrl(work[1], work[0])\n",
    "    swap(exponent[0], exponent[2])\n",
    "    "
   ]
  },
  {
   "cell_type": "markdown",
   "id": "84a197e2",
   "metadata": {},
   "source": [
    "Now we are ready to define the `phase_kernel` to carry out the instructions in the circuit diagram drawn at the beginning of this section."
   ]
  },
  {
   "cell_type": "code",
   "execution_count": 12,
   "id": "206bcac3",
   "metadata": {},
   "outputs": [],
   "source": [
    "@cudaq.kernel\n",
    "def phase_kernel(control_register_size: int, work_register_size: int, a: int,\n",
    "                 N: int):\n",
    "    \"\"\" \n",
    "    Kernel to estimate the phase of the modular multiplication gate |x> U |y> = |x> |a*y mod 21> for a = 4 or 5\n",
    "    \"\"\"\n",
    "\n",
    "    qubits = cudaq.qvector(control_register_size + work_register_size)\n",
    "    control_register = qubits[0:control_register_size]\n",
    "    work_register = qubits[control_register_size:control_register_size +\n",
    "                           work_register_size]\n",
    "\n",
    "    h(control_register)\n",
    "\n",
    "    if a == 4 and N == 21:\n",
    "        modular_exp_4_21(control_register, work_register)\n",
    "    if a == 5 and N == 21:\n",
    "        modular_exp_5_21(control_register, work_register, control_register_size)\n",
    "\n",
    "    inverse_qft(control_register)\n",
    "\n",
    "    # Measure only the control_register and not the work_register\n",
    "    mz(control_register)\n"
   ]
  },
  {
   "cell_type": "code",
   "execution_count": null,
   "id": "ca9b570a",
   "metadata": {},
   "outputs": [],
   "source": [
    "control_register_size = 3\n",
    "work_register_size = 5\n",
    "values_for_a = [4, 5]\n",
    "idx = 1  # change to 1 to select 5\n",
    "N = 21\n",
    "shots = 15000\n",
    "\n",
    "print(\n",
    "    cudaq.draw(phase_kernel, control_register_size, work_register_size,\n",
    "               values_for_a[idx], N))\n",
    "\n",
    "results = cudaq.sample(phase_kernel,\n",
    "                       control_register_size,\n",
    "                       work_register_size,\n",
    "                       values_for_a[idx],\n",
    "                       N,\n",
    "                       shots_count=shots)\n",
    "print(\n",
    "    \"Measurement results for a={} and N={} with {} qubits in the control register \"\n",
    "    .format(values_for_a[idx], N, control_register_size))\n",
    "print(results)"
   ]
  },
  {
   "cell_type": "markdown",
   "id": "4718d04f",
   "metadata": {},
   "source": [
    "### Determining the order from the measurement results of the phase kernel\n",
    "\n",
    "The measurement results from sampling the `phase_kernel` can be used to estimate the phase of the operator $U|x\\rangle = ax\\mod N$. We will only be interested in the most probable non-zero outcomes of the sampling.  Therefore, we'll create a function `top_results` to extract those values."
   ]
  },
  {
   "cell_type": "code",
   "execution_count": 14,
   "id": "9e96846f",
   "metadata": {},
   "outputs": [],
   "source": [
    "def top_results(sample_results, zeros, threshold):\n",
    "    \"\"\"Function to output the non-zero results whose counts are above the given threshold\n",
    "    Returns\n",
    "    -------\n",
    "        dict[str, int]: keys are bit-strings and values are the respective counts  \n",
    "    \"\"\"\n",
    "    results_dictionary = {k: v for k, v in sample_results.items()}\n",
    "    if zeros in results_dictionary.keys():\n",
    "        results_dictionary.pop(zeros)\n",
    "    sorted_results = {\n",
    "        k: v for k, v in sorted(\n",
    "            results_dictionary.items(), key=lambda item: item[1], reverse=True)\n",
    "    }\n",
    "    top_key = next(iter(sorted_results))\n",
    "    max_value = sorted_results[top_key]\n",
    "    top_results_dictionary = {top_key: max_value}\n",
    "\n",
    "    for key in sorted_results:\n",
    "        if results_dictionary[key] > min(threshold, max_value):\n",
    "            top_results_dictionary[key] = results_dictionary[key]\n",
    "    return top_results_dictionary"
   ]
  },
  {
   "cell_type": "markdown",
   "id": "8b55ab5a",
   "metadata": {},
   "source": [
    "Let's see how the `top_results` extracts the top results from the measurement results for a=4 and N=21 with 3 qubits in the control register that we computed above.  One of these top result is likely to be an estimate for the phase of $U$."
   ]
  },
  {
   "cell_type": "code",
   "execution_count": null,
   "id": "cb717231",
   "metadata": {},
   "outputs": [],
   "source": [
    "# Example\n",
    "top_results(results, '000', 750)"
   ]
  },
  {
   "cell_type": "markdown",
   "id": "cda8137a",
   "metadata": {},
   "source": [
    "The algorithm for translating the phase estimate of the operator $U|x\\rangle = ax\\mod N$ into the order of $a \\mod N$ involves continued fractions. The function `find_order_quantum` below carries out this computation.  To learn more about how the phase of $U$ relates to the period of $a \\mod N$, check out these three lectures by Scott Aaronson: lecture [19](https://www.scottaaronson.com/qclec/19.pdf), [20](https://www.scottaaronson.com/qclec/20.pdf), [21](https://www.scottaaronson.com/qclec/21.pdf)."
   ]
  },
  {
   "cell_type": "code",
   "execution_count": 16,
   "id": "a562fde9",
   "metadata": {},
   "outputs": [],
   "source": [
    "def get_order_from_phase(phase, phase_nbits, a, N):\n",
    "    \"\"\"Uses continued fractions to find the order of a mod N  \n",
    "    Parameters\n",
    "    ----------\n",
    "    phase: int\n",
    "        Integer result from the phase estimate of U|x> = ax mod N\n",
    "    phase_nbits: int\n",
    "        Number of qubits used to estimate the phase\n",
    "    a: int\n",
    "        For this demonstration a is either 4 or 5\n",
    "    N: int\n",
    "        For this demonstration N = 21\n",
    "    Returns\n",
    "    -------\n",
    "    int: period of a mod N if found, otherwise returns None\n",
    "    \"\"\"\n",
    "\n",
    "    assert phase_nbits > 0\n",
    "    assert a > 0\n",
    "    assert N > 0\n",
    "\n",
    "    eigenphase = float(phase) / 2**(phase_nbits)\n",
    "\n",
    "    f = fractions.Fraction.from_float(eigenphase).limit_denominator(N)\n",
    "\n",
    "    if f.numerator == 1:\n",
    "        return None\n",
    "    eigenphase = float(f.numerator / f.denominator)\n",
    "    print('eigenphase is ', eigenphase)\n",
    "    coefficients_continued_fraction = list(\n",
    "        contfrac.continued_fraction(eigenphase))\n",
    "    \n",
    "    convergents_continued_fraction = list(contfrac.convergents(eigenphase))\n",
    "    print('convergent sequence of fractions for this eigenphase is', convergents_continued_fraction)\n",
    "    for r in convergents_continued_fraction:\n",
    "        print('using the denominators of the fractions in the convergent sequence, testing order =', r[1])\n",
    "        if a**r[1] % N == 1:\n",
    "            print('Found order:', r[1])\n",
    "            return (r[1])\n",
    "    return None\n"
   ]
  },
  {
   "cell_type": "markdown",
   "id": "47511fbe",
   "metadata": {},
   "source": [
    "We are now ready to combine all the elements above into a function to find the order of $a$ $\\mod N$ and test it in the factoring algoithm."
   ]
  },
  {
   "cell_type": "code",
   "execution_count": 17,
   "id": "7ad0abcf",
   "metadata": {},
   "outputs": [],
   "source": [
    "def find_order_quantum(a, N):\n",
    "    \"\"\"The quantum algorithm to find the order of a mod N, when x = 4 or x =5 and N = 21\n",
    "    Parameters\n",
    "    ----------\n",
    "    a: int\n",
    "        For this demonstration a will be either 4 or 5\n",
    "    N: int\n",
    "        For this demonstration N will be 21\n",
    "    Returns\n",
    "    r: int the period if it is found, or None if no period is found\n",
    "    -------\n",
    "    \n",
    "    \"\"\"\n",
    "\n",
    "    if (a == 4 and N == 21) or (a == 5 and N == 21):\n",
    "        shots = 15000\n",
    "        if a == 4 and N == 21:\n",
    "            control_register_size = 3\n",
    "            work_register_size = 2\n",
    "        if a == 5 and N == 21:\n",
    "            control_register_size = 5\n",
    "            work_register_size = 5\n",
    "\n",
    "        #cudaq.set_random_seed(123)\n",
    "        results = cudaq.sample(phase_kernel,\n",
    "                               control_register_size,\n",
    "                               work_register_size,\n",
    "                               a,\n",
    "                               N,\n",
    "                               shots_count=shots)\n",
    "        print(\"Measurement results:\")\n",
    "        print(results)\n",
    "\n",
    "        # We will want to ignore the all zero result\n",
    "        zero_result = ''.join(\n",
    "            [str(elem) for elem in [0] * control_register_size])\n",
    "        # We'll only consider the top results from the sampling\n",
    "        threshold = shots * (.1)\n",
    "        most_probable_bitpatterns = top_results(results, zero_result, threshold)\n",
    "\n",
    "        for key in most_probable_bitpatterns:\n",
    "            # Convert the key bit string into an integer \n",
    "            # This integer divided by 8 is an estimate for the phase\n",
    "            reverse_result = key[::-1]\n",
    "            phase = int(reverse_result, 2)\n",
    "            \n",
    "            print(\"Trying nonzero bitpattern from the phase estimation:\", key,\n",
    "                  \"=\", phase)\n",
    "            r = get_order_from_phase(phase, control_register_size, a, N)\n",
    "            if r == None:\n",
    "                print('No period found.')\n",
    "\n",
    "                continue\n",
    "\n",
    "            return r\n",
    "            break\n",
    "    else:\n",
    "        print(\n",
    "            \"A different quantum kernel is required for this choice of a and N.\"\n",
    "        )"
   ]
  },
  {
   "cell_type": "code",
   "execution_count": null,
   "id": "79927898",
   "metadata": {},
   "outputs": [],
   "source": [
    "my_integer = 21\n",
    "initial_value_to_start = 5  # Try replacing 5 with 4\n",
    "quantum = True \n",
    "shors_algorithm(my_integer, initial_value_to_start, quantum)"
   ]
  },
  {
   "cell_type": "markdown",
   "id": "c243a5ee",
   "metadata": {},
   "source": [
    "### Postscript\n",
    "Recent [work of Oded Regev](https://arxiv.org/abs/2308.06572) improves Shor's Algorithm by reducing the number of gates needed.  You can read more about it [here](https://www.quantamagazine.org/thirty-years-later-a-speed-boost-for-quantum-factoring-20231017/)."
   ]
  },
  {
   "cell_type": "markdown",
   "id": "db11e690",
   "metadata": {},
   "source": []
  }
 ],
 "metadata": {
  "kernelspec": {
   "display_name": "cudaq",
   "language": "python",
   "name": "python3"
  },
  "language_info": {
   "codemirror_mode": {
    "name": "ipython",
    "version": 3
   },
   "file_extension": ".py",
   "mimetype": "text/x-python",
   "name": "python",
   "nbconvert_exporter": "python",
   "pygments_lexer": "ipython3",
   "version": "3.10.13"
  }
 },
 "nbformat": 4,
 "nbformat_minor": 5
}
