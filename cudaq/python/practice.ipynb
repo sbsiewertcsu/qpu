{
 "cells": [
  {
   "cell_type": "markdown",
   "metadata": {},
   "source": [
    "# Learning Cuda-Q\n",
    "\n",
    "Here is an example problem to help get more acquainted with how CudaQ works."
   ]
  },
  {
   "cell_type": "markdown",
   "metadata": {},
   "source": [
    "## Install Prereqs"
   ]
  },
  {
   "cell_type": "code",
   "execution_count": 1,
   "metadata": {},
   "outputs": [],
   "source": [
    "# Should already be installed in our environment.yml\n",
    "!pip install -q contfrac\n",
    "!pip install -q cuda-quantum\n",
    "import cudaq"
   ]
  },
  {
   "cell_type": "markdown",
   "metadata": {},
   "source": [
    "## Write Your First Kernel"
   ]
  },
  {
   "cell_type": "markdown",
   "metadata": {},
   "source": [
    "Quantum computers use qubits to represent numbers, so lets write a helpful function for future use. Look at [CudaQ Docs](https://nvidia.github.io/cuda-quantum/latest/using/basics/build_kernel.html), or email me at [jbcollins@csuchico.edu](jbcollins@csuchico.edu) if you need help."
   ]
  },
  {
   "cell_type": "markdown",
   "metadata": {},
   "source": [
    "### Helpful Functions"
   ]
  },
  {
   "cell_type": "code",
   "execution_count": 7,
   "metadata": {},
   "outputs": [
    {
     "name": "stdout",
     "output_type": "stream",
     "text": [
      "Measurement results: { 0101:1000 }\n",
      "\n"
     ]
    }
   ],
   "source": [
    "def init_circuit(n: int):\n",
    "    \"\"\"Initializes a kernel with n qubits.\"\"\"\n",
    "    kernel = cudaq.make_kernel()\n",
    "    # Create a list of individual qubits\n",
    "    \n",
    "    pass\n",
    "    # Return kernel, qubits\n",
    "\n",
    "def set_int(val: int, kernel, qubits):\n",
    "    \"\"\"Sets the qubits' states to match the binary representation of the integer val.\"\"\"\n",
    "    # Convert the integer to its binary representation\n",
    "    \n",
    "    # Initialize qubits according to the binary representation\n",
    "    pass\n",
    "\n",
    "def measure_qbits(kernel, qubits):\n",
    "    \"\"\"Measures the state of the specified qubits and prints their binary representation.\"\"\"\n",
    "    # Add measurement operations to all listed qubits\n",
    "\n",
    "    # Execute the kernel on the default CUDAQ simulator\n",
    "\n",
    "    # Print the measurement results\n",
    "    pass\n",
    "\n",
    "def res_to_int(res):\n",
    "    # Convert qbit measurement to decimal int\n",
    "    pass"
   ]
  },
  {
   "cell_type": "code",
   "execution_count": null,
   "metadata": {},
   "outputs": [],
   "source": [
    "# Example usage\n",
    "n_qubits = 4\n",
    "value_to_set = 10  # Binary '1010'\n",
    "\n",
    "# Initialize the circuit with n qubits\n",
    "kernel, qubits = init_circuit(n_qubits)\n",
    "\n",
    "# Set qubits according to the binary representation of the value\n",
    "set_int(value_to_set, kernel, qubits)\n",
    "\n",
    "# Measure the qubits and print the results\n",
    "measure_qbits(kernel, qubits)\n",
    "\n",
    "# Expected output: \n",
    "# Measurement results: { 1010:0001 }"
   ]
  }
 ],
 "metadata": {
  "kernelspec": {
   "display_name": "cudaq",
   "language": "python",
   "name": "python3"
  },
  "language_info": {
   "codemirror_mode": {
    "name": "ipython",
    "version": 3
   },
   "file_extension": ".py",
   "mimetype": "text/x-python",
   "name": "python",
   "nbconvert_exporter": "python",
   "pygments_lexer": "ipython3",
   "version": "3.10.13"
  }
 },
 "nbformat": 4,
 "nbformat_minor": 2
}
